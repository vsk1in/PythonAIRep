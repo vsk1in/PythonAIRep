{
  "nbformat": 4,
  "nbformat_minor": 0,
  "metadata": {
    "colab": {
      "provenance": [],
      "authorship_tag": "ABX9TyO9lu0tqoqZX5NGUelAu1yd",
      "include_colab_link": true
    },
    "kernelspec": {
      "name": "python3",
      "display_name": "Python 3"
    },
    "language_info": {
      "name": "python"
    }
  },
  "cells": [
    {
      "cell_type": "markdown",
      "metadata": {
        "id": "view-in-github",
        "colab_type": "text"
      },
      "source": [
        "<a href=\"https://colab.research.google.com/github/vsk1in/PythonAIRep/blob/main/PythonAI.ipynb\" target=\"_parent\"><img src=\"https://colab.research.google.com/assets/colab-badge.svg\" alt=\"Open In Colab\"/></a>"
      ]
    },
    {
      "cell_type": "code",
      "execution_count": 4,
      "metadata": {
        "colab": {
          "base_uri": "https://localhost:8080/"
        },
        "id": "JSHs01dVTWSz",
        "outputId": "6a40935f-7c56-4dd1-b692-d06cbd144564"
      },
      "outputs": [
        {
          "output_type": "stream",
          "name": "stdout",
          "text": [
            "this is my first python program value of C is 50\n"
          ]
        }
      ],
      "source": [
        "a=5\n",
        "b=10\n",
        "c=a*b\n",
        "print(\"this is my first python program\",\"value of C is\", c)"
      ]
    }
  ]
}